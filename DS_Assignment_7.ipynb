{
  "nbformat": 4,
  "nbformat_minor": 0,
  "metadata": {
    "colab": {
      "provenance": []
    },
    "kernelspec": {
      "name": "python3",
      "display_name": "Python 3"
    },
    "language_info": {
      "name": "python"
    }
  },
  "cells": [
    {
      "cell_type": "code",
      "execution_count": 2,
      "metadata": {
        "colab": {
          "base_uri": "https://localhost:8080/",
          "height": 0
        },
        "id": "yWSytiVLCqfk",
        "outputId": "a949dd85-d5e5-40d3-fb60-4a627645b671"
      },
      "outputs": [
        {
          "output_type": "stream",
          "name": "stdout",
          "text": [
            "egg and add are Isomorphic\n"
          ]
        }
      ],
      "source": [
        "#Q1\n",
        "def isIsomorphic(X, Y):\n",
        "\n",
        "    # if 'X' and 'Y' have different lengths, they cannot be isomorphic\n",
        "    if len(X) != len(Y):\n",
        "        return False\n",
        "\n",
        "    # use a dictionary to store a mapping from characters of string 'X' to string 'Y'\n",
        "    d = {}\n",
        "\n",
        "    # use set to store a pool of already mapped characters\n",
        "    s = set()\n",
        "\n",
        "    for i in range(len(X)):\n",
        "        x = X[i]\n",
        "        y = Y[i]\n",
        "\n",
        "        # if 'x' is seen before\n",
        "        if x in d:\n",
        "            # return false if the first occurrence of `x` is mapped to a\n",
        "            # different character\n",
        "            if d[x] != y:\n",
        "                return False\n",
        "\n",
        "        # if 'x' is seen for the first time (i.e., it isn't mapped yet)\n",
        "        else:\n",
        "            # return false if 'y' is already mapped to some other char in 'X'\n",
        "            if y in s:\n",
        "                return False\n",
        "\n",
        "            # map 'y' to 'x' and mark it as mapped\n",
        "            d[x] = y\n",
        "            s.add(y)\n",
        "\n",
        "    return True\n",
        "\n",
        "\n",
        "if __name__ == '__main__':\n",
        "\n",
        "    X = 'egg'\n",
        "    Y = 'add'\n",
        "\n",
        "    if isIsomorphic(X, Y):\n",
        "        print(f'{X} and {Y} are Isomorphic')\n",
        "    else:\n",
        "        print(f'{X} and {Y} are not Isomorphic')"
      ]
    },
    {
      "cell_type": "code",
      "source": [
        "#Q3\n",
        "num1 = \"11\"\n",
        "num2 = \"123\"\n",
        "\n",
        "class Solution:\n",
        "  def addStrings(self, num1,num2):\n",
        "    ans = []\n",
        "    carry = 0\n",
        "    i = len(num1) - 1\n",
        "    j = len(num2) - 1\n",
        "\n",
        "    while i >= 0 or j >= 0 or carry:\n",
        "      if i >= 0:\n",
        "        carry += int(num1[i])\n",
        "      if j >= 0:\n",
        "        carry += int(num2[j])\n",
        "      ans.append(str(carry % 10))\n",
        "      carry //= 10\n",
        "      i -= 1\n",
        "      j -= 1\n",
        "\n",
        "    return ''.join(ans[::-1])"
      ],
      "metadata": {
        "id": "DZEew_KICy-3"
      },
      "execution_count": 4,
      "outputs": []
    },
    {
      "cell_type": "code",
      "source": [
        "#Q4\n",
        "class Solution(object):\n",
        "    def reverseWords(self, s):\n",
        "        return \" \".join(s.split(\" \")[::-1])[::-1]\n",
        "\n"
      ],
      "metadata": {
        "id": "_OXz4G28DYc4"
      },
      "execution_count": 6,
      "outputs": []
    },
    {
      "cell_type": "code",
      "source": [
        "#Q5\n",
        "class Solution:\n",
        "\n",
        "    def reverseStr(self, s: str, k: int) -> str:\n",
        "\n",
        "        size = len(s)\n",
        "        output_str = \"\"\n",
        "        i = 0\n",
        "\n",
        "\n",
        "        # general case:\n",
        "\n",
        "        while size - i*2*k >= 2*k:\n",
        "\n",
        "            output_str += s[ i*2*k : i*2*k+k ][::-1] + s[ i*2*k+k : (i+1)*2*k ]\n",
        "            i += 1\n",
        "\n",
        "\n",
        "        # tail handling:\n",
        "\n",
        "        if size - i*2*k < k:\n",
        "            output_str += s[ i*2*k : ][::-1]\n",
        "\n",
        "        else:\n",
        "            output_str += s[ i*2*k : i*2*k+k ][::-1] + s[ i*2*k+k : ]\n",
        "\n",
        "\n",
        "        return output_str"
      ],
      "metadata": {
        "id": "TxuCLwhXD7gw"
      },
      "execution_count": 7,
      "outputs": []
    },
    {
      "cell_type": "code",
      "source": [
        "#Q7\n",
        "S = \"ab#c\"\n",
        "T = \"ad#c\"\n",
        "class Solution:\n",
        "    def backspaceCompare(self, S,T):\n",
        "        def bckspc(string):\n",
        "            stack=[]\n",
        "            for i in string:\n",
        "                if i =='#':\n",
        "                    try:\n",
        "                        stack.pop()\n",
        "                    except:\n",
        "                        pass\n",
        "                else:\n",
        "                    stack.append(i)\n",
        "            return ''.join(stack)\n",
        "        return (bckspc(S)==bckspc(T))"
      ],
      "metadata": {
        "id": "Gpwpa5A7D8w3"
      },
      "execution_count": 9,
      "outputs": []
    },
    {
      "cell_type": "code",
      "source": [],
      "metadata": {
        "id": "wUykfHSOEcpN"
      },
      "execution_count": null,
      "outputs": []
    }
  ]
}